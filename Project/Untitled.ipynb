{
 "cells": [
  {
   "cell_type": "code",
   "execution_count": 16,
   "id": "fb32c008",
   "metadata": {},
   "outputs": [
    {
     "ename": "SyntaxError",
     "evalue": "invalid syntax (<ipython-input-16-06530b6a9671>, line 36)",
     "output_type": "error",
     "traceback": [
      "\u001b[1;36m  File \u001b[1;32m\"<ipython-input-16-06530b6a9671>\"\u001b[1;36m, line \u001b[1;32m36\u001b[0m\n\u001b[1;33m    whos frameL frameR\u001b[0m\n\u001b[1;37m              ^\u001b[0m\n\u001b[1;31mSyntaxError\u001b[0m\u001b[1;31m:\u001b[0m invalid syntax\n"
     ]
    }
   ],
   "source": [
    "import numpy as np\n",
    "import cv2\n",
    "from matplotlib import pyplot as plt\n",
    "# Import additional library to properply play videos on jupyter notebook\n",
    "from IPython.display import clear_output\n",
    "\n",
    "\n",
    "capL = cv2.VideoCapture('robotL.avi')\n",
    "capR = cv2.VideoCapture('robotR.avi')\n",
    "# Reading the mapping values for stereo image rectification\n",
    "cv_file = cv2.FileStorage(\"data/stereo_rectify_maps.xml\", cv2.FILE_STORAGE_READ)\n",
    "Left_Stereo_Map_x = cv_file.getNode(\"Left_Stereo_Map_x\").mat()\n",
    "Left_Stereo_Map_y = cv_file.getNode(\"Left_Stereo_Map_y\").mat()\n",
    "Right_Stereo_Map_x = cv_file.getNode(\"Right_Stereo_Map_x\").mat()\n",
    "Right_Stereo_Map_y = cv_file.getNode(\"Right_Stereo_Map_y\").mat()\n",
    "cv_file.release()\n",
    "\n",
    "b = 92.226\n",
    "f = 567.2\n",
    "\n",
    "n=1\n",
    "while (capL.isOpened() and capR.isOpened()):\n",
    "   \n",
    "    retL, frameL = capL.read()\n",
    "    if not retL or frameL is None:\n",
    "        break\n",
    "    retR, frameR = capR.read()\n",
    "    if not retR or frameR is None:\n",
    "        break\n",
    "        \n",
    "        \n",
    "    #imgL_gray=cv2.cvtColor(frameL,cv2.COLOR_BGR2GRAY)\n",
    "    #imgR_gray=cv2.cvtColor(frameR,cv2.COLOR_BGR2GRAY)\n",
    "    scale = 0.5;\n",
    "    [frameL, frameR] = scale_images(frameL, frameR, scale);\n",
    "    whos frameL frameR\n",
    "    [h,w,cn] = size(frameL);\n",
    "    \n",
    "    \n",
    "    \n",
    "    \n",
    "    \n",
    "    \n",
    "    #disparity map\n",
    "    #stereo = cv2.StereoBM_create(numDisparities=16, blockSize=15)\n",
    "   # disparity = stereo.compute(Left_nice,Right_nice)\n",
    "    #disparity = disparity.astype(np.float32)\n",
    "    #disparity = (disparity/16.0 - minDisparity)/numDisparities\n",
    "    #cv2.imshow(\"disp\",disparity)\n",
    "     \n",
    "#release videos\n",
    "capL.release()\n",
    "capR.release()"
   ]
  },
  {
   "cell_type": "code",
   "execution_count": null,
   "id": "9ff5ef6b",
   "metadata": {},
   "outputs": [],
   "source": []
  }
 ],
 "metadata": {
  "kernelspec": {
   "display_name": "Python 3",
   "language": "python",
   "name": "python3"
  },
  "language_info": {
   "codemirror_mode": {
    "name": "ipython",
    "version": 3
   },
   "file_extension": ".py",
   "mimetype": "text/x-python",
   "name": "python",
   "nbconvert_exporter": "python",
   "pygments_lexer": "ipython3",
   "version": "3.6.4"
  }
 },
 "nbformat": 4,
 "nbformat_minor": 5
}
