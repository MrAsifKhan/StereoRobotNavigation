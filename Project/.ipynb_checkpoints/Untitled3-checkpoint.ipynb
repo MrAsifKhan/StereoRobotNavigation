{
 "cells": [
  {
   "cell_type": "code",
   "execution_count": 1,
   "id": "97b1a7ed",
   "metadata": {},
   "outputs": [],
   "source": [
    "import cv2\n",
    "import numpy as np\n",
    "from matplotlib import pyplot as plt\n",
    "\n",
    "# Import additional library to properply play videos on jupyter notebook\n",
    "from IPython.display import clear_output\n"
   ]
  },
  {
   "cell_type": "code",
   "execution_count": 2,
   "id": "e3acd421",
   "metadata": {},
   "outputs": [
    {
     "name": "stdout",
     "output_type": "stream",
     "text": [
      "<VideoCapture 0C291620> <VideoCapture 05D84CC0>\n"
     ]
    }
   ],
   "source": [
    "capR = cv2.VideoCapture('robotR.avi')\n",
    "capL = cv2.VideoCapture('robotL.avi')\n",
    "print(capR,capL)"
   ]
  },
  {
   "cell_type": "code",
   "execution_count": 5,
   "id": "c97250ce",
   "metadata": {},
   "outputs": [
    {
     "name": "stdout",
     "output_type": "stream",
     "text": [
      "True True\n",
      "(480, 640)\n"
     ]
    },
    {
     "ename": "TypeError",
     "evalue": "bad argument type for built-in operation",
     "output_type": "error",
     "traceback": [
      "\u001b[1;31m---------------------------------------------------------------------------\u001b[0m",
      "\u001b[1;31mTypeError\u001b[0m                                 Traceback (most recent call last)",
      "\u001b[1;32m<ipython-input-5-1819879f5cc8>\u001b[0m in \u001b[0;36m<module>\u001b[1;34m\u001b[0m\n\u001b[0;32m    100\u001b[0m     \u001b[0mdisparity\u001b[0m \u001b[1;33m=\u001b[0m \u001b[0mstereo\u001b[0m\u001b[1;33m.\u001b[0m\u001b[0mcompute\u001b[0m\u001b[1;33m(\u001b[0m\u001b[0mimgR_rectified\u001b[0m\u001b[1;33m,\u001b[0m\u001b[0mimgL_rectified\u001b[0m\u001b[1;33m)\u001b[0m\u001b[1;33m\u001b[0m\u001b[0m\n\u001b[0;32m    101\u001b[0m \u001b[1;33m\u001b[0m\u001b[0m\n\u001b[1;32m--> 102\u001b[1;33m     \u001b[0mcv2\u001b[0m\u001b[1;33m.\u001b[0m\u001b[0mimshow\u001b[0m\u001b[1;33m(\u001b[0m\u001b[0mdisparity\u001b[0m\u001b[1;33m,\u001b[0m \u001b[1;34m'gray'\u001b[0m\u001b[1;33m)\u001b[0m\u001b[1;33m\u001b[0m\u001b[0m\n\u001b[0m\u001b[0;32m    103\u001b[0m     \u001b[0mcv2\u001b[0m\u001b[1;33m.\u001b[0m\u001b[0mwaitKey\u001b[0m\u001b[1;33m(\u001b[0m\u001b[1;36m500\u001b[0m\u001b[1;33m)\u001b[0m\u001b[1;33m\u001b[0m\u001b[0m\n",
      "\u001b[1;31mTypeError\u001b[0m: bad argument type for built-in operation"
     ]
    }
   ],
   "source": [
    "\n",
    "print(capR.isOpened(),capL.isOpened())\n",
    "while (capR.isOpened() and capL.isOpened()):\n",
    "    retL, frameL = capL.read()\n",
    "    #print(frameL.shape)\n",
    "   \n",
    "    retR, frameR = capR.read()\n",
    "    imgR = cv2.cvtColor(frameR,cv2.COLOR_BGR2GRAY)\n",
    "    imgL = cv2.cvtColor(frameL,cv2.COLOR_BGR2GRAY)\n",
    "    #cv2.imshow('right_image',imgR)\n",
    "    #cv2.waitKey(1000)\n",
    "    sift= cv2.xfeatures2d.SIFT_create()\n",
    "    kpL, desL = sift.detectAndCompute(imgL, None)\n",
    "    kpR, desR = sift.detectAndCompute(imgR, None)\n",
    "    imgSift = cv2.drawKeypoints(\n",
    "        imgL, kpL, None, flags=cv2.DRAW_MATCHES_FLAGS_DRAW_RICH_KEYPOINTS)\n",
    "    #cv2.imshow(\"SIFT Keypoints\", imgSift)\n",
    "    #cv2.waitKey(100)\n",
    "    FLANN_INDEX_KDTREE = 1\n",
    "    index_params = dict(algorithm=FLANN_INDEX_KDTREE, trees=5)\n",
    "    search_params = dict(checks=50)   # or pass empty dictionary\n",
    "    flann = cv2.FlannBasedMatcher(index_params, search_params)\n",
    "    matches = flann.knnMatch(desL, desR, k=2)\n",
    "    matchesMask = [[0, 0] for i in range(len(matches))]\n",
    "    \n",
    "    good = []\n",
    "    ptsL = []\n",
    "    ptsR = []\n",
    "    for i, (m, n) in enumerate(matches):\n",
    "        if m.distance < 0.7*n.distance:\n",
    "            matchesMask[i] = [1, 0]\n",
    "            good.append(m)\n",
    "            ptsR.append(kpR[m.trainIdx].pt)\n",
    "            ptsL.append(kpL[m.queryIdx].pt)\n",
    "            \n",
    "    draw_params = dict(matchColor=(0, 255, 0),\n",
    "                       singlePointColor=(255, 0, 0),\n",
    "                       matchesMask=matchesMask[300:500],\n",
    "                       flags=cv2.DrawMatchesFlags_DEFAULT)\n",
    "    keypoint_matches = cv2.drawMatchesKnn(\n",
    "        imgL, kpL, imgR, kpR, matches[300:500], None, **draw_params)\n",
    "    #cv2.imshow(\"Keypoint matches\", keypoint_matches)\n",
    "    #cv2.waitKey(5000)\n",
    "    \n",
    "    ptsL = np.int32(ptsL)\n",
    "    ptsR = np.int32(ptsR)\n",
    "    fundamental_matrix, inliers = cv2.findFundamentalMat(ptsL, ptsR, cv2.FM_RANSAC)\n",
    "    # We select only inlier points\n",
    "    ptsL = ptsL[inliers.ravel() == 1]\n",
    "    ptsR = ptsR[inliers.ravel() == 1]\n",
    "    \n",
    "    def drawlines(imgLsrc, imgRsrc, lines, ptsLsrc, ptsRsrc):\n",
    "        r, c = imgLsrc.shape\n",
    "        imgLcolor = cv2.cvtColor(imgLsrc, cv2.COLOR_GRAY2BGR)\n",
    "        imgRcolor = cv2.cvtColor(imgRsrc, cv2.COLOR_GRAY2BGR)\n",
    "        \n",
    "        np.random.seed(1)\n",
    "        for r, ptL, ptR in zip(lines, ptsLsrc, ptsRsrc):\n",
    "            color = tuple(np.random.randint(0, 255, 3).tolist())\n",
    "            x0, y0 = map(int, [0, -r[2]/r[1]])\n",
    "            x1, y1 = map(int, [c, -(r[2]+r[0]*c)/r[1]])\n",
    "            img1color = cv2.line(imgLcolor, (x0, y0), (x1, y1), color, 1)\n",
    "            img1color = cv2.circle(imgLcolor, tuple(ptL), 5, color, -1)\n",
    "            img2color = cv2.circle(imgRcolor, tuple(ptR), 5, color, -1)\n",
    "        return imgLcolor, imgRcolor\n",
    "    \n",
    "    \n",
    "    linesL = cv2.computeCorrespondEpilines(\n",
    "        ptsR.reshape(-1, 1, 2), 2, fundamental_matrix)\n",
    "    linesL = linesL.reshape(-1, 3)\n",
    "    img5, img6 = drawlines(imgL, imgR, linesL, ptsL, ptsR)\n",
    "    linesR = cv2.computeCorrespondEpilines(\n",
    "        ptsL.reshape(-1, 1, 2), 1, fundamental_matrix)\n",
    "    \n",
    "    linesR = linesR.reshape(-1, 3)\n",
    "    \n",
    "    img3, img4 = drawlines(imgR, imgL, linesR, ptsR, ptsL)\n",
    "    \n",
    "    #plt.subplot(121), plt.imshow(img5)\n",
    "    #plt.subplot(122), plt.imshow(img3)\n",
    "    #plt.suptitle(\"Epilines in both images\")\n",
    "    #plt.show()\n",
    "    \n",
    "    # Stereo rectification (uncalibrated variant)\n",
    "    print(imgL.shape)\n",
    "    hL, wL = imgL.shape\n",
    "    hR, wR = imgR.shape\n",
    "    _, HL, HR = cv2.stereoRectifyUncalibrated(\n",
    "        np.float32(ptsL), np.float32(ptsR), fundamental_matrix, imgSize=(wL, hL)\n",
    "    )\n",
    "    \n",
    "    imgL_rectified = cv2.warpPerspective(imgL, HL, (wL, hL))\n",
    "    imgR_rectified = cv2.warpPerspective(imgR, HR, (wR, hR))\n",
    "    #cv2.imwrite(\"rectified_left.png\", imgL_rectified)\n",
    "    #cv2.imwrite(\"rectified_right.png\", imgR_rectified)\n",
    "\n",
    "\n",
    "\n",
    "    \n",
    "    stereo = cv2.StereoBM_create(numDisparities=64, blockSize=21)\n",
    "    disparity = stereo.compute(imgR_rectified,imgL_rectified)\n",
    "    \n",
    "    plot.imshow(disparity, 'gray')\n",
    "    cv2.waitKey(500)\n"
   ]
  },
  {
   "cell_type": "code",
   "execution_count": null,
   "id": "5dccd0e4",
   "metadata": {},
   "outputs": [],
   "source": []
  },
  {
   "cell_type": "code",
   "execution_count": null,
   "id": "da5ce099",
   "metadata": {},
   "outputs": [],
   "source": []
  },
  {
   "cell_type": "code",
   "execution_count": null,
   "id": "7b7750c1",
   "metadata": {},
   "outputs": [],
   "source": []
  },
  {
   "cell_type": "code",
   "execution_count": null,
   "id": "60b840e5",
   "metadata": {},
   "outputs": [],
   "source": []
  }
 ],
 "metadata": {
  "kernelspec": {
   "display_name": "Python 3",
   "language": "python",
   "name": "python3"
  },
  "language_info": {
   "codemirror_mode": {
    "name": "ipython",
    "version": 3
   },
   "file_extension": ".py",
   "mimetype": "text/x-python",
   "name": "python",
   "nbconvert_exporter": "python",
   "pygments_lexer": "ipython3",
   "version": "3.6.4"
  }
 },
 "nbformat": 4,
 "nbformat_minor": 5
}
