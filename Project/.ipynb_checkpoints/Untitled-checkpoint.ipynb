{
 "cells": [
  {
   "cell_type": "code",
   "execution_count": null,
   "id": "c9013790",
   "metadata": {},
   "outputs": [],
   "source": [
    "import numpy as np\n",
    "import cv2\n",
    "from matplotlib import pyplot as plt\n",
    "# Import additional library to properply play videos on jupyter notebook\n",
    "from IPython.display import clear_output\n",
    "capL = cv2.VideoCapture('robotL.avi')\n",
    "capR = cv2.VideoCapture('robotR.avi')\n",
    "b = 92.226\n",
    "f = 567.2\n",
    "while (capL.isOpened() and capR.isOpened()):\n",
    "    retL, frameL = capL.read()\n",
    "    if not retL or frameL is None:\n",
    "        break\n",
    "    retR, frameR = capR.read()\n",
    "    if not retR or frameR is None:\n",
    "        break\n",
    "    frameL_gray=cv2.cvtColor(frameL[frameL.shape[0]/2-49:frameL.shape[0]/2+50,frameL.shape[1]/2-49:frameL.shape[1]/2+50], cv2.COLOR_BGR2GRAY)\n",
    "    frameR_gray=cv2.cvtColor(frameL[frameR.shape[0]/2-49:frameR.shape[0]/2+50,frameR.shape[1]/2-49:frameR.shape[1]/2+50], cv2.COLOR_BGR2GRAY)\n",
    "#disparity map\n",
    "    stereo = cv2.StereoBM_create(numDisparities=16, blockSize=15)\n",
    "    disparity = stereo.compute(frameR_gray,frameR_gray)\n",
    "    disparity = disparity[np.logical_and(disparity<128, disparity>0)]\n",
    "    dmain = disparity.mean()\n",
    "    z = b*f/(dmain*100) #in meters\n",
    "    print(z)\n",
    "#if z>0.8:\n",
    "#if alarm stop alarm\n",
    "#else alarm\n",
    "\n",
    "#release videos\n",
    "capL.release()\n",
    "capR.release()"
   ]
  },
  {
   "cell_type": "code",
   "execution_count": null,
   "id": "c8ac6e90",
   "metadata": {},
   "outputs": [],
   "source": []
  }
 ],
 "metadata": {
  "kernelspec": {
   "display_name": "Python 3",
   "language": "python",
   "name": "python3"
  },
  "language_info": {
   "codemirror_mode": {
    "name": "ipython",
    "version": 3
   },
   "file_extension": ".py",
   "mimetype": "text/x-python",
   "name": "python",
   "nbconvert_exporter": "python",
   "pygments_lexer": "ipython3",
   "version": "3.6.4"
  }
 },
 "nbformat": 4,
 "nbformat_minor": 5
}
